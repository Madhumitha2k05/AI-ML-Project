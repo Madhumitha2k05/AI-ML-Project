{
 "cells": [
  {
   "cell_type": "code",
   "execution_count": null,
   "id": "1bfed99c-97f4-4301-9021-5dd19f3afae6",
   "metadata": {},
   "outputs": [],
   "source": [
    "#Employee Work Hours Analysis with Anomaly Detection and Visualization\n"
   ]
  },
  {
   "cell_type": "code",
   "execution_count": 1,
   "id": "2fd618c9-8ae8-4736-a9ed-317f8e78db88",
   "metadata": {},
   "outputs": [],
   "source": [
    "import numpy as np\n",
    "import pandas as pd"
   ]
  },
  {
   "cell_type": "code",
   "execution_count": 4,
   "id": "3e62fc31-36c6-4b0e-87fe-88f54eb6c3f1",
   "metadata": {},
   "outputs": [
    {
     "data": {
      "text/plain": [
       "['EMP001',\n",
       " 'EMP002',\n",
       " 'EMP003',\n",
       " 'EMP004',\n",
       " 'EMP005',\n",
       " 'EMP006',\n",
       " 'EMP007',\n",
       " 'EMP008',\n",
       " 'EMP009',\n",
       " 'EMP010',\n",
       " 'EMP011',\n",
       " 'EMP012',\n",
       " 'EMP013',\n",
       " 'EMP014',\n",
       " 'EMP015',\n",
       " 'EMP016',\n",
       " 'EMP017',\n",
       " 'EMP018',\n",
       " 'EMP019',\n",
       " 'EMP020',\n",
       " 'EMP021',\n",
       " 'EMP022',\n",
       " 'EMP023',\n",
       " 'EMP024',\n",
       " 'EMP025',\n",
       " 'EMP026',\n",
       " 'EMP027',\n",
       " 'EMP028',\n",
       " 'EMP029',\n",
       " 'EMP030']"
      ]
     },
     "execution_count": 4,
     "metadata": {},
     "output_type": "execute_result"
    }
   ],
   "source": [
    "#Create 30 employee IDs\n",
    "employee_ids = [f'EMP{str(i).zfill(3)}' for i in range(1, 31)]\n",
    "employee_ids  # Display the list\n"
   ]
  },
  {
   "cell_type": "code",
   "execution_count": 5,
   "id": "416f1a74-d93f-4011-9e47-6431169d4586",
   "metadata": {},
   "outputs": [],
   "source": [
    "# Simulate working hours for each employee for 7 days (total 210 entries)\n",
    "np.random.seed(42)  # For reproducible results"
   ]
  },
  {
   "cell_type": "code",
   "execution_count": 6,
   "id": "87fdcc53-287a-4e76-b5fb-56625e3d65ee",
   "metadata": {},
   "outputs": [],
   "source": [
    "data = {\n",
    "    \"EmployeeID\": np.repeat(employee_ids, 7),  # 30 employees × 7 days\n",
    "    \"Day\": list(range(1, 8)) * 30,             # Days 1 to 7\n",
    "    \"WorkingHours\": np.random.randint(4, 11, size=30 * 7)  # Random hours between 4 and 10\n",
    "}"
   ]
  },
  {
   "cell_type": "code",
   "execution_count": 7,
   "id": "351f9aa9-f221-45cf-9351-fa767ea1d198",
   "metadata": {},
   "outputs": [
    {
     "data": {
      "text/html": [
       "<div>\n",
       "<style scoped>\n",
       "    .dataframe tbody tr th:only-of-type {\n",
       "        vertical-align: middle;\n",
       "    }\n",
       "\n",
       "    .dataframe tbody tr th {\n",
       "        vertical-align: top;\n",
       "    }\n",
       "\n",
       "    .dataframe thead th {\n",
       "        text-align: right;\n",
       "    }\n",
       "</style>\n",
       "<table border=\"1\" class=\"dataframe\">\n",
       "  <thead>\n",
       "    <tr style=\"text-align: right;\">\n",
       "      <th></th>\n",
       "      <th>EmployeeID</th>\n",
       "      <th>Day</th>\n",
       "      <th>WorkingHours</th>\n",
       "    </tr>\n",
       "  </thead>\n",
       "  <tbody>\n",
       "    <tr>\n",
       "      <th>0</th>\n",
       "      <td>EMP001</td>\n",
       "      <td>1</td>\n",
       "      <td>10</td>\n",
       "    </tr>\n",
       "    <tr>\n",
       "      <th>1</th>\n",
       "      <td>EMP001</td>\n",
       "      <td>2</td>\n",
       "      <td>7</td>\n",
       "    </tr>\n",
       "    <tr>\n",
       "      <th>2</th>\n",
       "      <td>EMP001</td>\n",
       "      <td>3</td>\n",
       "      <td>8</td>\n",
       "    </tr>\n",
       "    <tr>\n",
       "      <th>3</th>\n",
       "      <td>EMP001</td>\n",
       "      <td>4</td>\n",
       "      <td>10</td>\n",
       "    </tr>\n",
       "    <tr>\n",
       "      <th>4</th>\n",
       "      <td>EMP001</td>\n",
       "      <td>5</td>\n",
       "      <td>6</td>\n",
       "    </tr>\n",
       "    <tr>\n",
       "      <th>5</th>\n",
       "      <td>EMP001</td>\n",
       "      <td>6</td>\n",
       "      <td>8</td>\n",
       "    </tr>\n",
       "    <tr>\n",
       "      <th>6</th>\n",
       "      <td>EMP001</td>\n",
       "      <td>7</td>\n",
       "      <td>8</td>\n",
       "    </tr>\n",
       "    <tr>\n",
       "      <th>7</th>\n",
       "      <td>EMP002</td>\n",
       "      <td>1</td>\n",
       "      <td>10</td>\n",
       "    </tr>\n",
       "    <tr>\n",
       "      <th>8</th>\n",
       "      <td>EMP002</td>\n",
       "      <td>2</td>\n",
       "      <td>5</td>\n",
       "    </tr>\n",
       "    <tr>\n",
       "      <th>9</th>\n",
       "      <td>EMP002</td>\n",
       "      <td>3</td>\n",
       "      <td>6</td>\n",
       "    </tr>\n",
       "  </tbody>\n",
       "</table>\n",
       "</div>"
      ],
      "text/plain": [
       "  EmployeeID  Day  WorkingHours\n",
       "0     EMP001    1            10\n",
       "1     EMP001    2             7\n",
       "2     EMP001    3             8\n",
       "3     EMP001    4            10\n",
       "4     EMP001    5             6\n",
       "5     EMP001    6             8\n",
       "6     EMP001    7             8\n",
       "7     EMP002    1            10\n",
       "8     EMP002    2             5\n",
       "9     EMP002    3             6"
      ]
     },
     "execution_count": 7,
     "metadata": {},
     "output_type": "execute_result"
    }
   ],
   "source": [
    "# Create the DataFrame\n",
    "df = pd.DataFrame(data)\n",
    "df.head(10)  # Show first 10 rows"
   ]
  },
  {
   "cell_type": "code",
   "execution_count": 9,
   "id": "6648eae6-9952-4b07-be01-125bf4f5f201",
   "metadata": {},
   "outputs": [
    {
     "name": "stdout",
     "output_type": "stream",
     "text": [
      "Shape of dataset: (210, 3)\n",
      "\n",
      "Summary statistics:\n",
      " count    210.000000\n",
      "mean       7.180952\n",
      "std        1.979710\n",
      "min        4.000000\n",
      "25%        6.000000\n",
      "50%        7.000000\n",
      "75%        9.000000\n",
      "max       10.000000\n",
      "Name: WorkingHours, dtype: float64\n",
      "\n",
      "Missing values:\n",
      " EmployeeID      0\n",
      "Day             0\n",
      "WorkingHours    0\n",
      "dtype: int64\n"
     ]
    }
   ],
   "source": [
    "# Check shape of the DataFrame\n",
    "print(\"Shape of dataset:\", df.shape)\n",
    "\n",
    "# Summary statistics of working hours\n",
    "print(\"\\nSummary statistics:\\n\", df[\"WorkingHours\"].describe())\n",
    "\n",
    "# Check for any missing values\n",
    "print(\"\\nMissing values:\\n\", df.isnull().sum())\n"
   ]
  },
  {
   "cell_type": "code",
   "execution_count": 10,
   "id": "23ff8b3f-7bd2-4ec7-b39f-4aa5e5a9e74f",
   "metadata": {},
   "outputs": [
    {
     "data": {
      "text/html": [
       "<div>\n",
       "<style scoped>\n",
       "    .dataframe tbody tr th:only-of-type {\n",
       "        vertical-align: middle;\n",
       "    }\n",
       "\n",
       "    .dataframe tbody tr th {\n",
       "        vertical-align: top;\n",
       "    }\n",
       "\n",
       "    .dataframe thead th {\n",
       "        text-align: right;\n",
       "    }\n",
       "</style>\n",
       "<table border=\"1\" class=\"dataframe\">\n",
       "  <thead>\n",
       "    <tr style=\"text-align: right;\">\n",
       "      <th></th>\n",
       "      <th>EmployeeID</th>\n",
       "      <th>TotalHours</th>\n",
       "      <th>AverageHours</th>\n",
       "      <th>MinHours</th>\n",
       "      <th>MaxHours</th>\n",
       "    </tr>\n",
       "  </thead>\n",
       "  <tbody>\n",
       "    <tr>\n",
       "      <th>0</th>\n",
       "      <td>EMP001</td>\n",
       "      <td>57</td>\n",
       "      <td>8.142857</td>\n",
       "      <td>6</td>\n",
       "      <td>10</td>\n",
       "    </tr>\n",
       "    <tr>\n",
       "      <th>1</th>\n",
       "      <td>EMP002</td>\n",
       "      <td>51</td>\n",
       "      <td>7.285714</td>\n",
       "      <td>5</td>\n",
       "      <td>10</td>\n",
       "    </tr>\n",
       "    <tr>\n",
       "      <th>2</th>\n",
       "      <td>EMP003</td>\n",
       "      <td>51</td>\n",
       "      <td>7.285714</td>\n",
       "      <td>5</td>\n",
       "      <td>9</td>\n",
       "    </tr>\n",
       "    <tr>\n",
       "      <th>3</th>\n",
       "      <td>EMP004</td>\n",
       "      <td>45</td>\n",
       "      <td>6.428571</td>\n",
       "      <td>4</td>\n",
       "      <td>9</td>\n",
       "    </tr>\n",
       "    <tr>\n",
       "      <th>4</th>\n",
       "      <td>EMP005</td>\n",
       "      <td>44</td>\n",
       "      <td>6.285714</td>\n",
       "      <td>4</td>\n",
       "      <td>9</td>\n",
       "    </tr>\n",
       "  </tbody>\n",
       "</table>\n",
       "</div>"
      ],
      "text/plain": [
       "  EmployeeID  TotalHours  AverageHours  MinHours  MaxHours\n",
       "0     EMP001          57      8.142857         6        10\n",
       "1     EMP002          51      7.285714         5        10\n",
       "2     EMP003          51      7.285714         5         9\n",
       "3     EMP004          45      6.428571         4         9\n",
       "4     EMP005          44      6.285714         4         9"
      ]
     },
     "execution_count": 10,
     "metadata": {},
     "output_type": "execute_result"
    }
   ],
   "source": [
    "# Group by EmployeeID to calculate Total, Average, Min, and Max working hours\n",
    "employee_summary = df.groupby(\"EmployeeID\")[\"WorkingHours\"].agg(\n",
    "    TotalHours='sum',\n",
    "    AverageHours='mean',\n",
    "    MinHours='min',\n",
    "    MaxHours='max'\n",
    ").reset_index()\n",
    "\n",
    "# Show summary\n",
    "employee_summary.head()\n"
   ]
  },
  {
   "cell_type": "code",
   "execution_count": 11,
   "id": "edfde1c3-3ce9-48cf-8d82-159fcf34f24e",
   "metadata": {},
   "outputs": [],
   "source": [
    "# Detect employees with average working hours < 5 or > 9 (as anomalies)\n",
    "anomalies = employee_summary[\n",
    "    (employee_summary[\"AverageHours\"] < 5) |\n",
    "    (employee_summary[\"AverageHours\"] > 9)\n",
    "]"
   ]
  },
  {
   "cell_type": "code",
   "execution_count": 12,
   "id": "d2cc5b29-6610-49a4-bce3-8fa93dc9122d",
   "metadata": {},
   "outputs": [
    {
     "name": "stdout",
     "output_type": "stream",
     "text": [
      "Anomalies Detected:\n",
      "\n",
      "Empty DataFrame\n",
      "Columns: [EmployeeID, TotalHours, AverageHours, MinHours, MaxHours]\n",
      "Index: []\n"
     ]
    }
   ],
   "source": [
    "# Show anomalies\n",
    "print(\"Anomalies Detected:\\n\")\n",
    "print(anomalies)"
   ]
  },
  {
   "cell_type": "code",
   "execution_count": 13,
   "id": "220a7c5b-3211-4d41-aa9f-39e8bc6698fb",
   "metadata": {},
   "outputs": [],
   "source": [
    "import matplotlib.pyplot as plt\n",
    "import seaborn as sns\n"
   ]
  },
  {
   "cell_type": "code",
   "execution_count": 16,
   "id": "67887393-adec-4506-9eb4-2911897227fe",
   "metadata": {},
   "outputs": [
    {
     "data": {
      "image/png": "[encoded data removed]",
      "text/plain": [
       "<Figure size 1500x600 with 1 Axes>"
      ]
     },
     "metadata": {},
     "output_type": "display_data"
    }
   ],
   "source": [
    "plt.figure(figsize=(15,6))\n",
    "sns.barplot(\n",
    "    data=employee_summary.assign(Hue=employee_summary[\"EmployeeID\"]),  # temporary hue column\n",
    "    x=\"EmployeeID\",\n",
    "    y=\"TotalHours\",\n",
    "    hue=\"Hue\",                      # set hue as x for consistent palette use\n",
    "    palette=\"Blues_d\",\n",
    "    legend=False                    # hide the legend\n",
    ")\n",
    "plt.xticks(rotation=90)\n",
    "plt.title(\"Total Working Hours per Employee (7 Days)\", fontsize=14)\n",
    "plt.xlabel(\"Employee ID\")\n",
    "plt.ylabel(\"Total Hours\")\n",
    "plt.tight_layout()\n",
    "plt.show()\n"
   ]
  },
  {
   "cell_type": "code",
   "execution_count": 18,
   "id": "f7a045e4-b974-42d4-937a-48f03c760d50",
   "metadata": {},
   "outputs": [
    {
     "data": {
      "image/png": "[encoded data removed]",
      "text/plain": [
       "<Figure size 1500x600 with 1 Axes>"
      ]
     },
     "metadata": {},
     "output_type": "display_data"
    }
   ],
   "source": [
    "# Create a new column for color\n",
    "employee_summary['Color'] = employee_summary['EmployeeID'].apply(\n",
    "    lambda emp: 'red' if emp in anomalies['EmployeeID'].values else 'green'\n",
    ")\n",
    "\n",
    "plt.figure(figsize=(15,6))\n",
    "sns.barplot(\n",
    "    data=employee_summary,\n",
    "    x=\"EmployeeID\",\n",
    "    y=\"AverageHours\",\n",
    "    hue=\"Color\",           # use color as hue\n",
    "    palette={\"red\": \"red\", \"green\": \"green\"},\n",
    "    dodge=False,           # to keep bars in one position\n",
    "    legend=False           # turn off the legend\n",
    ")\n",
    "plt.xticks(rotation=90)\n",
    "plt.title(\"Average Working Hours per Employee (Red = Anomaly)\", fontsize=14)\n",
    "plt.xlabel(\"Employee ID\")\n",
    "plt.ylabel(\"Average Hours\")\n",
    "plt.axhline(5, color='gray', linestyle='--', label='Lower Threshold')\n",
    "plt.axhline(9, color='gray', linestyle='--', label='Upper Threshold')\n",
    "plt.tight_layout()\n",
    "plt.show()\n"
   ]
  },
  {
   "cell_type": "code",
   "execution_count": null,
   "id": "5e901eb2-75ba-439a-900c-affdcdf2041e",
   "metadata": {},
   "outputs": [],
   "source": []
  }
 ],
 "metadata": {
  "kernelspec": {
   "display_name": "Python 3 (ipykernel)",
   "language": "python",
   "name": "python3"
  },
  "language_info": {
   "codemirror_mode": {
    "name": "ipython",
    "version": 3
   },
   "file_extension": ".py",
   "mimetype": "text/x-python",
   "name": "python",
   "nbconvert_exporter": "python",
   "pygments_lexer": "ipython3",
   "version": "3.9.6"
  }
 },
 "nbformat": 4,
 "nbformat_minor": 5
}
