{
 "cells": [
  {
   "cell_type": "code",
   "execution_count": 1,
   "id": "dc67b457-7a76-4131-8b0f-86d2bd157906",
   "metadata": {},
   "outputs": [],
   "source": [
    "import mysql.connector"
   ]
  },
  {
   "cell_type": "code",
   "execution_count": 2,
   "id": "04c18aa6-beef-434a-bbc4-29f48d8b13a1",
   "metadata": {},
   "outputs": [],
   "source": [
    "import csv"
   ]
  },
  {
   "cell_type": "code",
   "execution_count": 3,
   "id": "991efe18-ae4c-4f8d-8af1-4e410e4d56c0",
   "metadata": {},
   "outputs": [],
   "source": [
    "import datetime"
   ]
  },
  {
   "cell_type": "code",
   "execution_count": 9,
   "id": "697e99f8-7eb3-4a82-9ad2-fecc7b042369",
   "metadata": {},
   "outputs": [
    {
     "name": "stdout",
     "output_type": "stream",
     "text": [
      "MySQL connection successful: True\n"
     ]
    }
   ],
   "source": [
    "# Connect to MySQL server\n",
    "mydb = mysql.connector.connect(\n",
    "    host='localhost',\n",
    "    user='root',\n",
    "    password='Madhu@2311'  # Replace with your password\n",
    ")\n",
    "\n",
    "print(\"MySQL connection successful:\", mydb.is_connected())"
   ]
  },
  {
   "cell_type": "code",
   "execution_count": 10,
   "id": "869d0d5c-3d66-4612-93f5-263bcd6ce66e",
   "metadata": {},
   "outputs": [
    {
     "name": "stdout",
     "output_type": "stream",
     "text": [
      "Database and table created successfully.\n"
     ]
    }
   ],
   "source": [
    "cursor = mydb.cursor()\n",
    "\n",
    "# Create database\n",
    "cursor.execute(\"CREATE DATABASE IF NOT EXISTS employee\")\n",
    "\n",
    "# Select the new database\n",
    "cursor.execute(\"USE employee\")\n",
    "\n",
    "# Create the salary table\n",
    "cursor.execute(\"\"\"\n",
    "    CREATE TABLE IF NOT EXISTS salary (\n",
    "        empid INT,\n",
    "        firstname VARCHAR(100),\n",
    "        lastname VARCHAR(100),\n",
    "        email VARCHAR(50),\n",
    "        phone VARCHAR(15),\n",
    "        hire_date DATE,\n",
    "        job_id VARCHAR(15),\n",
    "        salary INT\n",
    "    )\n",
    "\"\"\")\n",
    "\n",
    "print(\"Database and table created successfully.\")"
   ]
  },
  {
   "cell_type": "code",
   "execution_count": null,
   "id": "27363338-7c06-408c-9d6f-eef164cb33c5",
   "metadata": {},
   "outputs": [],
   "source": []
  }
 ],
 "metadata": {
  "kernelspec": {
   "display_name": "Python 3 (ipykernel)",
   "language": "python",
   "name": "python3"
  },
  "language_info": {
   "codemirror_mode": {
    "name": "ipython",
    "version": 3
   },
   "file_extension": ".py",
   "mimetype": "text/x-python",
   "name": "python",
   "nbconvert_exporter": "python",
   "pygments_lexer": "ipython3",
   "version": "3.9.6"
  }
 },
 "nbformat": 4,
 "nbformat_minor": 5
}
