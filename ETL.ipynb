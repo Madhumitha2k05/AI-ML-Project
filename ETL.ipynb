{
 "cells": [
  {
   "cell_type": "code",
   "execution_count": 1,
   "id": "8d0d2f79-511b-4a0e-84f3-c41295d7ef8f",
   "metadata": {},
   "outputs": [],
   "source": [
    "import logging\n",
    "import pandas as pd\n",
    "import numpy as np\n",
    "import mysql.connector\n",
    "import datetime\n",
    "import os\n",
    "\n",
    "# Set up basic logging\n",
    "logging.basicConfig(\n",
    "    filename='etl_log.txt',\n",
    "    level=logging.INFO,\n",
    "    format='%(asctime)s - %(levelname)s - %(message)s'\n",
    ")"
   ]
  },
  {
   "cell_type": "code",
   "execution_count": 2,
   "id": "ec9e6374-8d52-43a5-a97a-b2a4ec5c0323",
   "metadata": {},
   "outputs": [
    {
     "name": "stdout",
     "output_type": "stream",
     "text": [
      "Raw data loaded:\n",
      "   EMPLOYEE_ID FIRST_NAME  LAST_NAME     EMAIL  PHONE_NUMBER  HIRE_DATE  \\\n",
      "0          198     Donald   OConnell  DOCONNEL  650.507.9833  21-Jun-07   \n",
      "1          199    Douglas      Grant    DGRANT  650.507.9844  13-Jan-08   \n",
      "2          200   Jennifer     Whalen   JWHALEN  515.123.4444  17-Sep-03   \n",
      "3          201    Michael  Hartstein  MHARTSTE  515.123.5555  17-Feb-04   \n",
      "4          202        Pat        Fay      PFAY  603.123.6666  17-Aug-05   \n",
      "\n",
      "     JOB_ID  SALARY  \n",
      "0  SH_CLERK    2600  \n",
      "1  SH_CLERK    2600  \n",
      "2   AD_ASST    4400  \n",
      "3    MK_MAN   13000  \n",
      "4    MK_REP    6000  \n",
      "Column names: ['EMPLOYEE_ID', 'FIRST_NAME', 'LAST_NAME', 'EMAIL', 'PHONE_NUMBER', 'HIRE_DATE', 'JOB_ID', 'SALARY']\n"
     ]
    }
   ],
   "source": [
    "csv_file_path = 'employees1.csv'  # Make sure this file is in your working directory\n",
    "\n",
    "df = pd.read_csv(csv_file_path)\n",
    "\n",
    "print(\"Raw data loaded:\")\n",
    "print(df.head())\n",
    "print(\"Column names:\", df.columns.tolist())\n",
    "\n",
    "logging.info(\"CSV loaded successfully.\")"
   ]
  },
  {
   "cell_type": "code",
   "execution_count": 3,
   "id": "7fab75df-a476-4e2f-a1fe-eb4c689c1024",
   "metadata": {},
   "outputs": [
    {
     "name": "stdout",
     "output_type": "stream",
     "text": [
      "Cleaned column names: ['employee_id', 'first_name', 'last_name', 'email', 'phone_number', 'hire_date', 'job_id', 'salary']\n"
     ]
    }
   ],
   "source": [
    "# Fill missing values\n",
    "df.fillna({\n",
    "    'EMAIL': 'not_provided@example.com',\n",
    "    'PHONE_NUMBER': '0000000000',\n",
    "    'HIRE_DATE': '01-Jan-00',\n",
    "    'SALARY': 0\n",
    "}, inplace=True)\n",
    "\n",
    "# Standardize column names\n",
    "df.columns = [col.strip().lower().replace(' ', '_') for col in df.columns]\n",
    "print(\"Cleaned column names:\", df.columns.tolist())"
   ]
  },
  {
   "cell_type": "code",
   "execution_count": 4,
   "id": "bfb47631-26ef-4d32-a66a-2ba6260dbf86",
   "metadata": {},
   "outputs": [],
   "source": [
    "# Convert 'hire_date' to datetime\n",
    "df['hire_date'] = pd.to_datetime(df['hire_date'], format='%d-%b-%y', errors='coerce')\n",
    "\n",
    "# Replace invalid dates with default\n",
    "df['hire_date'] = df['hire_date'].fillna(pd.to_datetime('2000-01-01'))\n",
    "\n",
    "# Convert 'salary' to numeric\n",
    "df['salary'] = pd.to_numeric(df['salary'], errors='coerce').fillna(0).astype(int)\n",
    "\n",
    "logging.info(\"Data cleaning completed.\")"
   ]
  },
  {
   "cell_type": "code",
   "execution_count": 5,
   "id": "fcf0a7f9-11f8-47fc-b5b1-49d1b7365602",
   "metadata": {},
   "outputs": [],
   "source": [
    "# Connect to MySQL\n",
    "mydb = mysql.connector.connect(\n",
    "    host=\"localhost\",\n",
    "    user=\"root\",\n",
    "    password=\"Madhu@2311\",\n",
    "    database=\"employee\"  # Replace with your actual DB name\n",
    ")\n",
    "\n",
    "cursor = mydb.cursor()\n",
    "\n",
    "# Create table if it doesn't exist\n",
    "cursor.execute(\"\"\"\n",
    "    CREATE TABLE IF NOT EXISTS salary_2 (\n",
    "        empid INT PRIMARY KEY,\n",
    "        firstname VARCHAR(50),\n",
    "        lastname VARCHAR(50),\n",
    "        email VARCHAR(100),\n",
    "        phone VARCHAR(20),\n",
    "        hire_date DATE,\n",
    "        job_id VARCHAR(20),\n",
    "        salary INT\n",
    "    )\n",
    "\"\"\")"
   ]
  },
  {
   "cell_type": "code",
   "execution_count": 6,
   "id": "db3e43e9-908d-426e-9aa0-c309fbd09714",
   "metadata": {},
   "outputs": [
    {
     "name": "stdout",
     "output_type": "stream",
     "text": [
      "ETL process completed successfully.\n"
     ]
    }
   ],
   "source": [
    "for index, row in df.iterrows():\n",
    "    sql = \"\"\"\n",
    "        INSERT INTO salary_2 (\n",
    "            empid, firstname, lastname, email, phone, hire_date, job_id, salary\n",
    "        ) VALUES (%s, %s, %s, %s, %s, %s, %s, %s)\n",
    "        ON DUPLICATE KEY UPDATE\n",
    "            firstname=VALUES(firstname),\n",
    "            lastname=VALUES(lastname),\n",
    "            email=VALUES(email),\n",
    "            phone=VALUES(phone),\n",
    "            hire_date=VALUES(hire_date),\n",
    "            job_id=VALUES(job_id),\n",
    "            salary=VALUES(salary)\n",
    "    \"\"\"\n",
    "\n",
    "    values = (\n",
    "        int(row['employee_id']),\n",
    "        row['first_name'],\n",
    "        row['last_name'],\n",
    "        row['email'],\n",
    "        row['phone_number'],\n",
    "        row['hire_date'].date(),\n",
    "        row['job_id'],\n",
    "        int(row['salary'])\n",
    "    )\n",
    "\n",
    "    cursor.execute(sql, values)\n",
    "\n",
    "mydb.commit()\n",
    "cursor.close()\n",
    "mydb.close()\n",
    "\n",
    "logging.info(\"ETL process completed successfully.\")\n",
    "print(\"ETL process completed successfully.\")"
   ]
  },
  {
   "cell_type": "code",
   "execution_count": 7,
   "id": "2572b202-b01f-41c0-a99d-f688509c9c8c",
   "metadata": {},
   "outputs": [
    {
     "name": "stdout",
     "output_type": "stream",
     "text": [
      "Current Working Directory: E:\\\n"
     ]
    }
   ],
   "source": [
    "print(\"Current Working Directory:\", os.getcwd())"
   ]
  },
  {
   "cell_type": "code",
   "execution_count": 1,
   "id": "77ee20f1-c9d3-47d5-8595-bbd59ddcb0a4",
   "metadata": {},
   "outputs": [
    {
     "name": "stderr",
     "output_type": "stream",
     "text": [
      "[NbConvertApp] Converting notebook ETL.ipynb to script\n",
      "[NbConvertApp] Writing 2934 bytes to ETL.py\n"
     ]
    }
   ],
   "source": [
    "!jupyter nbconvert --to script ETL.ipynb"
   ]
  },
  {
   "cell_type": "code",
   "execution_count": null,
   "id": "7b286d1c-291c-48f7-a1fb-da70da20db6c",
   "metadata": {},
   "outputs": [],
   "source": []
  }
 ],
 "metadata": {
  "kernelspec": {
   "display_name": "Python 3 (ipykernel)",
   "language": "python",
   "name": "python3"
  },
  "language_info": {
   "codemirror_mode": {
    "name": "ipython",
    "version": 3
   },
   "file_extension": ".py",
   "mimetype": "text/x-python",
   "name": "python",
   "nbconvert_exporter": "python",
   "pygments_lexer": "ipython3",
   "version": "3.9.6"
  }
 },
 "nbformat": 4,
 "nbformat_minor": 5
}
